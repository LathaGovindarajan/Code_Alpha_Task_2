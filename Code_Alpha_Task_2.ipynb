{
 "cells": [
  {
   "cell_type": "markdown",
   "id": "ea9086fe",
   "metadata": {},
   "source": [
    " Task 2- Quiz Application"
   ]
  },
  {
   "cell_type": "code",
   "execution_count": 1,
   "id": "dd867af1",
   "metadata": {},
   "outputs": [],
   "source": [
    "questions = [\n",
    "    {\n",
    "        \"question\": \"What is the Big Bang theory?\",\n",
    "        \"options\": [\"a) Expansion from a singularity, b) Earth's centrality ,c) Galaxy collision\"],\n",
    "        \"correct_answer\": \"a\",\n",
    "    },\n",
    "    {\n",
    "        \"question\": \"Approximate age of the Big Bang?\",\n",
    "        \"options\": [\"a) 4.5 billion years, b) 13.8 billion years, c) 1 million years\"],\n",
    "        \"correct_answer\": \"b\",\n",
    "    },\n",
    "    {\n",
    "        \"question\": \"Who first proposed the Big Bang theory?\",\n",
    "        \"options\": [\"a) Einstein , b) Sagan ,c) Lemaître\"],\n",
    "        \"correct_answer\": \"c\",\n",
    "    },\n",
    "    {\n",
    "        \"question\": \"What is the Key evidence for the Big Bang theory?\",\n",
    "        \"options\": [\"a) Cosmic microwave background ,b) Black holes ,c) Star formation\"],\n",
    "        \"correct_answer\": \"a\",\n",
    "    },\n",
    "    {\n",
    "        \"question\": \"hat's happening to galaxies as the universe expands?\",\n",
    "        \"options\": [\"a) Closer together, b) Stationary ,c) Farther apart\"],\n",
    "        \"correct_answer\": \"c\",\n",
    "    },\n",
    "]"
   ]
  },
  {
   "cell_type": "code",
   "execution_count": 2,
   "id": "b64d3cac",
   "metadata": {},
   "outputs": [],
   "source": [
    "def run_quiz(questions):\n",
    "    score = 0\n",
    "    for question in questions:\n",
    "        print(question[\"question\"])\n",
    "        for option in question[\"options\"]:\n",
    "            print(option)\n",
    "        user_answer = input(\"Your answer (a/b/c/d): \").strip().lower()\n",
    "        if user_answer == question[\"correct_answer\"]:\n",
    "            print(\"Correct!\")\n",
    "            score += 1\n",
    "        else:\n",
    "            print(f\"Wrong! The correct answer is {question['correct_answer']}.\")\n",
    "\n",
    "    print(f\"Your score: {score}/{len(questions)}\")"
   ]
  },
  {
   "cell_type": "code",
   "execution_count": 3,
   "id": "b1e4e71d",
   "metadata": {},
   "outputs": [
    {
     "name": "stdout",
     "output_type": "stream",
     "text": [
      "What is the Big Bang theory?\n",
      "a) Expansion from a singularity, b) Earth's centrality ,c) Galaxy collision\n",
      "Your answer (a/b/c/d): a\n",
      "Correct!\n",
      "Approximate age of the Big Bang?\n",
      "a) 4.5 billion years, b) 13.8 billion years, c) 1 million years\n",
      "Your answer (a/b/c/d): a\n",
      "Wrong! The correct answer is b.\n",
      "Who first proposed the Big Bang theory?\n",
      "a) Einstein , b) Sagan ,c) Lemaître\n",
      "Your answer (a/b/c/d): c\n",
      "Correct!\n",
      "What is the Key evidence for the Big Bang theory?\n",
      "a) Cosmic microwave background ,b) Black holes ,c) Star formation\n",
      "Your answer (a/b/c/d): a\n",
      "Correct!\n",
      "hat's happening to galaxies as the universe expands?\n",
      "a) Closer together, b) Stationary ,c) Farther apart\n",
      "Your answer (a/b/c/d): a\n",
      "Wrong! The correct answer is c.\n",
      "Your score: 3/5\n"
     ]
    }
   ],
   "source": [
    "if __name__ == \"__main__\":\n",
    "    run_quiz(questions)\n"
   ]
  }
 ],
 "metadata": {
  "kernelspec": {
   "display_name": "Python 3 (ipykernel)",
   "language": "python",
   "name": "python3"
  },
  "language_info": {
   "codemirror_mode": {
    "name": "ipython",
    "version": 3
   },
   "file_extension": ".py",
   "mimetype": "text/x-python",
   "name": "python",
   "nbconvert_exporter": "python",
   "pygments_lexer": "ipython3",
   "version": "3.9.13"
  }
 },
 "nbformat": 4,
 "nbformat_minor": 5
}
